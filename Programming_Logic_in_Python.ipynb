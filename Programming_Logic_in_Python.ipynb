{
  "nbformat": 4,
  "nbformat_minor": 0,
  "metadata": {
    "colab": {
      "provenance": [],
      "authorship_tag": "ABX9TyM8EcTyXmAMWoof0jkjjFs0",
      "include_colab_link": true
    },
    "kernelspec": {
      "name": "python3",
      "display_name": "Python 3"
    },
    "language_info": {
      "name": "python"
    }
  },
  "cells": [
    {
      "cell_type": "markdown",
      "metadata": {
        "id": "view-in-github",
        "colab_type": "text"
      },
      "source": [
        "<a href=\"https://colab.research.google.com/github/mayconmcardoso/Data-Science-Studies/blob/main/Programming_Logic_in_Python.ipynb\" target=\"_parent\"><img src=\"https://colab.research.google.com/assets/colab-badge.svg\" alt=\"Open In Colab\"/></a>"
      ]
    },
    {
      "cell_type": "markdown",
      "metadata": {
        "id": "LSAekw7l_OiS"
      },
      "source": [
        "# Creating my first function\n",
        "\n"
      ]
    },
    {
      "cell_type": "code",
      "metadata": {
        "id": "436zJkir_SjS"
      },
      "source": [
        "def greeting():\n",
        "  name = input('What is your name? ')\n",
        "  print(f'Hey {name}!') "
      ],
      "execution_count": 6,
      "outputs": []
    },
    {
      "cell_type": "code",
      "metadata": {
        "id": "3fijU6z5AVxi",
        "outputId": "eedb4cac-593e-4fe3-9251-1e0b84a36b5f",
        "colab": {
          "base_uri": "https://localhost:8080/"
        }
      },
      "source": [
        "]greeting()"
      ],
      "execution_count": 7,
      "outputs": [
        {
          "output_type": "stream",
          "name": "stdout",
          "text": [
            "What is your name? Maycon\n",
            "Hey Maycon!\n"
          ]
        }
      ]
    },
    {
      "cell_type": "markdown",
      "metadata": {
        "id": "YqgJLV6plKGn"
      },
      "source": [
        "# Parameters in python"
      ]
    },
    {
      "cell_type": "code",
      "metadata": {
        "id": "WZ0S7TIzlL3Y"
      },
      "source": [
        "name = 'Maycon'"
      ],
      "execution_count": 8,
      "outputs": []
    },
    {
      "cell_type": "code",
      "metadata": {
        "id": "1I8q3czSlRfR"
      },
      "source": [
        "def greetings_with_parameters(personsName):\n",
        "  print(f'Hey {personsName}')"
      ],
      "execution_count": 9,
      "outputs": []
    },
    {
      "cell_type": "code",
      "metadata": {
        "id": "e3Gc170WlSsu",
        "outputId": "5248e4b3-4d3a-4a21-f4b7-2bfe65a35743",
        "colab": {
          "base_uri": "https://localhost:8080/"
        }
      },
      "source": [
        "greetings_with_parameters(name)"
      ],
      "execution_count": 10,
      "outputs": [
        {
          "output_type": "stream",
          "name": "stdout",
          "text": [
            "Hey Maycon\n"
          ]
        }
      ]
    },
    {
      "cell_type": "markdown",
      "metadata": {
        "id": "z6vzg4CJm-Jt"
      },
      "source": [
        "# Conditional"
      ]
    },
    {
      "cell_type": "code",
      "metadata": {
        "id": "d-FD9ckim5Pb",
        "outputId": "b774ee66-ad6c-480b-a3cd-493ae303408a",
        "colab": {
          "base_uri": "https://localhost:8080/"
        }
      },
      "source": [
        "age = 10\n",
        "\n",
        "def canDrive(age):\n",
        "  if age >= 18:\n",
        "    print('You can drive!')\n",
        "  else:\n",
        "    print(\"You can't drive\")\n",
        "\n",
        "canDrive(age)"
      ],
      "execution_count": 11,
      "outputs": [
        {
          "output_type": "stream",
          "name": "stdout",
          "text": [
            "You can't drive\n"
          ]
        }
      ]
    },
    {
      "cell_type": "markdown",
      "metadata": {
        "id": "ZZch3gSDpM-n"
      },
      "source": [
        "# Converting to integer"
      ]
    },
    {
      "cell_type": "code",
      "metadata": {
        "id": "NthmkdmFneUO",
        "outputId": "19c6276e-64da-4ad7-b397-d48749799200",
        "colab": {
          "base_uri": "https://localhost:8080/"
        }
      },
      "source": [
        "def canDriveWithoutParameters():\n",
        "  age = input(\"What's your age?\")\n",
        "  age = int(age)\n",
        "  if age >= 18:\n",
        "    print('You can drive')\n",
        "  else:\n",
        "    print(\"You can't drive\")\n",
        "\n",
        "canDriveWithoutParameters()"
      ],
      "execution_count": 12,
      "outputs": [
        {
          "output_type": "stream",
          "name": "stdout",
          "text": [
            "What's your age?18\n",
            "You can drive\n"
          ]
        }
      ]
    },
    {
      "cell_type": "markdown",
      "metadata": {
        "id": "dsoF5WyLsohy"
      },
      "source": [
        "# List"
      ]
    },
    {
      "cell_type": "code",
      "metadata": {
        "id": "Qx5n3YADsgcT",
        "outputId": "3921c87e-449b-47c7-c05c-e28b33953a26",
        "colab": {
          "base_uri": "https://localhost:8080/"
        }
      },
      "source": [
        "age = 22\n",
        "age"
      ],
      "execution_count": 13,
      "outputs": [
        {
          "output_type": "execute_result",
          "data": {
            "text/plain": [
              "22"
            ]
          },
          "metadata": {},
          "execution_count": 13
        }
      ]
    },
    {
      "cell_type": "code",
      "metadata": {
        "id": "oI5JFDMfslqv",
        "outputId": "8ce401ea-ea0d-4381-faf6-93de73df12d7",
        "colab": {
          "base_uri": "https://localhost:8080/"
        }
      },
      "source": [
        "type(age)"
      ],
      "execution_count": 14,
      "outputs": [
        {
          "output_type": "execute_result",
          "data": {
            "text/plain": [
              "int"
            ]
          },
          "metadata": {},
          "execution_count": 14
        }
      ]
    },
    {
      "cell_type": "code",
      "metadata": {
        "id": "SjqnFUrosvhc",
        "outputId": "91d1fe1e-858e-470a-a1a4-f98542d66931",
        "colab": {
          "base_uri": "https://localhost:8080/"
        }
      },
      "source": [
        "name = 'Maycon'\n",
        "type(name)"
      ],
      "execution_count": 15,
      "outputs": [
        {
          "output_type": "execute_result",
          "data": {
            "text/plain": [
              "str"
            ]
          },
          "metadata": {},
          "execution_count": 15
        }
      ]
    },
    {
      "cell_type": "code",
      "metadata": {
        "id": "wl3ZUnJ0s0Rd",
        "outputId": "1c1bbd8c-79f4-4e1c-c53f-678db45153e8",
        "colab": {
          "base_uri": "https://localhost:8080/"
        }
      },
      "source": [
        "ages = [18, 22, 15, 50]\n",
        "type(ages)"
      ],
      "execution_count": 16,
      "outputs": [
        {
          "output_type": "execute_result",
          "data": {
            "text/plain": [
              "list"
            ]
          },
          "metadata": {},
          "execution_count": 16
        }
      ]
    },
    {
      "cell_type": "code",
      "metadata": {
        "id": "kSNAw_wys_hI",
        "outputId": "6d2136fa-666d-4a69-d8e5-7c3673e00489",
        "colab": {
          "base_uri": "https://localhost:8080/"
        }
      },
      "source": [
        "ages[2]"
      ],
      "execution_count": 17,
      "outputs": [
        {
          "output_type": "execute_result",
          "data": {
            "text/plain": [
              "15"
            ]
          },
          "metadata": {},
          "execution_count": 17
        }
      ]
    },
    {
      "cell_type": "code",
      "metadata": {
        "id": "f-BXWd7vtEH-"
      },
      "source": [
        "ages = [18, 22, 15, 50]\n",
        "#         0   1   2   3\n",
        "#         0  -3  -2  -1"
      ],
      "execution_count": 18,
      "outputs": []
    },
    {
      "cell_type": "code",
      "metadata": {
        "id": "MD374lZntOF7",
        "outputId": "f615225d-464e-4af6-d53b-9961ff44b4d4",
        "colab": {
          "base_uri": "https://localhost:8080/"
        }
      },
      "source": [
        "ages[1]"
      ],
      "execution_count": 19,
      "outputs": [
        {
          "output_type": "execute_result",
          "data": {
            "text/plain": [
              "22"
            ]
          },
          "metadata": {},
          "execution_count": 19
        }
      ]
    },
    {
      "cell_type": "code",
      "metadata": {
        "id": "TnvEOFuLtQND",
        "outputId": "b2b14e4b-2daf-430f-8f97-d55b734882ce",
        "colab": {
          "base_uri": "https://localhost:8080/"
        }
      },
      "source": [
        "ages[0:3]"
      ],
      "execution_count": 20,
      "outputs": [
        {
          "output_type": "execute_result",
          "data": {
            "text/plain": [
              "[18, 22, 15]"
            ]
          },
          "metadata": {},
          "execution_count": 20
        }
      ]
    },
    {
      "cell_type": "code",
      "metadata": {
        "id": "xUxdyF5EtYsi",
        "outputId": "0530be9d-7702-4689-83af-670d27262c4f",
        "colab": {
          "base_uri": "https://localhost:8080/"
        }
      },
      "source": [
        "ages[1:]"
      ],
      "execution_count": 21,
      "outputs": [
        {
          "output_type": "execute_result",
          "data": {
            "text/plain": [
              "[22, 15, 50]"
            ]
          },
          "metadata": {},
          "execution_count": 21
        }
      ]
    },
    {
      "cell_type": "code",
      "metadata": {
        "id": "EXlsN5qstm2G",
        "outputId": "f4fa7d09-77b6-4300-c0e4-3f14b91984bf",
        "colab": {
          "base_uri": "https://localhost:8080/"
        }
      },
      "source": [
        "ages[-1]"
      ],
      "execution_count": 22,
      "outputs": [
        {
          "output_type": "execute_result",
          "data": {
            "text/plain": [
              "50"
            ]
          },
          "metadata": {},
          "execution_count": 22
        }
      ]
    },
    {
      "cell_type": "code",
      "metadata": {
        "id": "KHatm1-8tsGh",
        "outputId": "293e2eca-ae1c-4d52-fb16-c5080c22b23a",
        "colab": {
          "base_uri": "https://localhost:8080/"
        }
      },
      "source": [
        "ages[-2]"
      ],
      "execution_count": 23,
      "outputs": [
        {
          "output_type": "execute_result",
          "data": {
            "text/plain": [
              "15"
            ]
          },
          "metadata": {},
          "execution_count": 23
        }
      ]
    },
    {
      "cell_type": "markdown",
      "metadata": {
        "id": "A4ole1EvwvVL"
      },
      "source": [
        "#Loops"
      ]
    },
    {
      "cell_type": "code",
      "metadata": {
        "id": "koCXWIJPt2UP",
        "outputId": "2d1b4eec-621f-4715-8704-fcd344cd9e4a",
        "colab": {
          "base_uri": "https://localhost:8080/"
        }
      },
      "source": [
        "ages"
      ],
      "execution_count": 24,
      "outputs": [
        {
          "output_type": "execute_result",
          "data": {
            "text/plain": [
              "[18, 22, 15, 50]"
            ]
          },
          "metadata": {},
          "execution_count": 24
        }
      ]
    },
    {
      "cell_type": "code",
      "metadata": {
        "outputId": "f3798d29-40c2-4553-bfb0-595a951773d7",
        "colab": {
          "base_uri": "https://localhost:8080/"
        },
        "id": "dS3OUhRxHg6a"
      },
      "source": [
        "# 'for' out of the function\n",
        "\n",
        "def canDrive(ages):\n",
        "  if ages >= 18:\n",
        "    print(f'{ages} years old, you CAN drive')\n",
        "  else:\n",
        "    print(f\"{ages} years old, you CAN'T drive\")\n",
        "\n",
        "for age in ages: \n",
        "  canDrive(age)"
      ],
      "execution_count": 25,
      "outputs": [
        {
          "output_type": "stream",
          "name": "stdout",
          "text": [
            "18 years old, you CAN drive\n",
            "22 years old, you CAN drive\n",
            "15 years old, you CAN'T drive\n",
            "50 years old, you CAN drive\n"
          ]
        }
      ]
    },
    {
      "cell_type": "code",
      "metadata": {
        "outputId": "8b2f3468-8bc5-44fa-c682-4483837a0db9",
        "colab": {
          "base_uri": "https://localhost:8080/"
        },
        "id": "sTZRa2n4Hcnz"
      },
      "source": [
        "def canDrive(ages):\n",
        "  for age in ages:\n",
        "    if age >= 18:\n",
        "      print(f'{age} years old, you CAN drive')\n",
        "    else:\n",
        "      print(f\"{age} years old, you CAN'T drive\")\n",
        "\n",
        "canDrive(ages)"
      ],
      "execution_count": 26,
      "outputs": [
        {
          "output_type": "stream",
          "name": "stdout",
          "text": [
            "18 years old, you CAN drive\n",
            "22 years old, you CAN drive\n",
            "15 years old, you CAN'T drive\n",
            "50 years old, you CAN drive\n"
          ]
        }
      ]
    },
    {
      "cell_type": "markdown",
      "metadata": {
        "id": "rsUr7whmzWhY"
      },
      "source": [
        "# Bolean"
      ]
    },
    {
      "cell_type": "code",
      "metadata": {
        "id": "8T8wJ28tzQpq",
        "outputId": "70144aca-5fb5-4f65-8b9b-56eea7099335",
        "colab": {
          "base_uri": "https://localhost:8080/"
        }
      },
      "source": [
        "age = 18\n",
        "age >= 18"
      ],
      "execution_count": 27,
      "outputs": [
        {
          "output_type": "execute_result",
          "data": {
            "text/plain": [
              "True"
            ]
          },
          "metadata": {},
          "execution_count": 27
        }
      ]
    },
    {
      "cell_type": "code",
      "metadata": {
        "id": "Fsax-52ozf_V",
        "outputId": "ec44ef61-f26f-4e05-a669-709901121a72",
        "colab": {
          "base_uri": "https://localhost:8080/"
        }
      },
      "source": [
        "age = 15\n",
        "age >= 18"
      ],
      "execution_count": 28,
      "outputs": [
        {
          "output_type": "execute_result",
          "data": {
            "text/plain": [
              "False"
            ]
          },
          "metadata": {},
          "execution_count": 28
        }
      ]
    },
    {
      "cell_type": "code",
      "metadata": {
        "id": "5TrL0hmkzjhF"
      },
      "source": [
        "permissions = []\n",
        "ages = [20, 14, 40]\n",
        "\n",
        "def canDrive(ages, permissions):\n",
        "  for age in ages:\n",
        "    if age >= 18:\n",
        "      permissions.append(True)\n",
        "    else:\n",
        "      permissions.append(False)\n",
        "\n",
        "canDrive(ages, permissions)"
      ],
      "execution_count": 29,
      "outputs": []
    },
    {
      "cell_type": "code",
      "metadata": {
        "id": "MXqN-zxf0UmK",
        "outputId": "2caad85b-8789-415c-8439-2bd7a0a9df93",
        "colab": {
          "base_uri": "https://localhost:8080/"
        }
      },
      "source": [
        "permissions"
      ],
      "execution_count": 30,
      "outputs": [
        {
          "output_type": "execute_result",
          "data": {
            "text/plain": [
              "[True, False, True]"
            ]
          },
          "metadata": {},
          "execution_count": 30
        }
      ]
    },
    {
      "cell_type": "code",
      "metadata": {
        "id": "SDv5J8qx0Wet",
        "outputId": "66437f8e-1609-4b17-f703-7f75b7627d23",
        "colab": {
          "base_uri": "https://localhost:8080/"
        }
      },
      "source": [
        "for permission in permissions:\n",
        "  if permission == True:\n",
        "    print('You CAN drive')\n",
        "  else:\n",
        "    print(\"You CAN'T drive\") "
      ],
      "execution_count": 31,
      "outputs": [
        {
          "output_type": "stream",
          "name": "stdout",
          "text": [
            "You CAN drive\n",
            "You CAN'T drive\n",
            "You CAN drive\n"
          ]
        }
      ]
    },
    {
      "cell_type": "markdown",
      "metadata": {
        "id": "vdOrSJjHfyUS"
      },
      "source": [
        "# Types in a list"
      ]
    },
    {
      "cell_type": "code",
      "metadata": {
        "id": "d3OZM-F80189",
        "outputId": "74753c9e-10cc-483b-a1bf-2f5a06243279",
        "colab": {
          "base_uri": "https://localhost:8080/"
        }
      },
      "source": [
        "list1 = ['Maycon', 24, True, '18']\n",
        "\n",
        "for element in list1:\n",
        "  print(f'The element {element} is: ', type(element))"
      ],
      "execution_count": 32,
      "outputs": [
        {
          "output_type": "stream",
          "name": "stdout",
          "text": [
            "The element Maycon is:  <class 'str'>\n",
            "The element 24 is:  <class 'int'>\n",
            "The element True is:  <class 'bool'>\n",
            "The element 18 is:  <class 'str'>\n"
          ]
        }
      ]
    },
    {
      "cell_type": "markdown",
      "metadata": {
        "id": "RrNcy3X-xVIh"
      },
      "source": [
        "# Import"
      ]
    },
    {
      "cell_type": "code",
      "metadata": {
        "id": "cTevC2tGwiZ_"
      },
      "source": [
        "from random import randrange, seed"
      ],
      "execution_count": 33,
      "outputs": []
    },
    {
      "cell_type": "code",
      "metadata": {
        "id": "j6Z8PYfuyXsc"
      },
      "source": [
        "# creating random numbers\n",
        "seed(11)"
      ],
      "execution_count": 34,
      "outputs": []
    },
    {
      "cell_type": "code",
      "metadata": {
        "id": "jCa-0X4YxhIC",
        "outputId": "4b3e285c-510e-47f1-a1a2-7b08f1b49ec0",
        "colab": {
          "base_uri": "https://localhost:8080/"
        }
      },
      "source": [
        "randrange(0,11)"
      ],
      "execution_count": 35,
      "outputs": [
        {
          "output_type": "execute_result",
          "data": {
            "text/plain": [
              "7"
            ]
          },
          "metadata": {},
          "execution_count": 35
        }
      ]
    },
    {
      "cell_type": "code",
      "metadata": {
        "id": "7dTMwODmxwzj",
        "outputId": "982babf4-b69f-4d97-d12a-a4e6ee72fee5",
        "colab": {
          "base_uri": "https://localhost:8080/"
        }
      },
      "source": [
        "math_grades = []\n",
        "\n",
        "for grades in range(8):\n",
        "  math_grades.append(randrange(0,11))\n",
        "\n",
        "math_grades"
      ],
      "execution_count": 36,
      "outputs": [
        {
          "output_type": "execute_result",
          "data": {
            "text/plain": [
              "[8, 7, 7, 8, 9, 3, 2, 8]"
            ]
          },
          "metadata": {},
          "execution_count": 36
        }
      ]
    },
    {
      "cell_type": "code",
      "metadata": {
        "id": "rbfck3oWx-aN",
        "outputId": "5d7b74d0-a4f0-424c-fb83-cd7222e2fffa",
        "colab": {
          "base_uri": "https://localhost:8080/"
        }
      },
      "source": [
        "len(math_grades)"
      ],
      "execution_count": 37,
      "outputs": [
        {
          "output_type": "execute_result",
          "data": {
            "text/plain": [
              "8"
            ]
          },
          "metadata": {},
          "execution_count": 37
        }
      ]
    },
    {
      "cell_type": "markdown",
      "metadata": {
        "id": "y1pVu50b01Pi"
      },
      "source": [
        "# Matplotlib"
      ]
    },
    {
      "cell_type": "code",
      "metadata": {
        "id": "VttCCSEAyNVy"
      },
      "source": [
        "import matplotlib.pyplot as plt"
      ],
      "execution_count": 44,
      "outputs": []
    },
    {
      "cell_type": "code",
      "metadata": {
        "id": "qC5cBhqj1GHV",
        "outputId": "4d11f0c4-8df9-48f3-fbfa-1ecd724510d3",
        "colab": {
          "base_uri": "https://localhost:8080/",
          "height": 295
        }
      },
      "source": [
        "x = list(range(1, 9))\n",
        "y = math_grades\n",
        "plt.plot(x, y, marker='o')\n",
        "plt.title('Math Grades')\n",
        "plt.xlabel('Tests')\n",
        "plt.ylabel('Grades')\n",
        "plt.show()"
      ],
      "execution_count": 45,
      "outputs": [
        {
          "output_type": "display_data",
          "data": {
            "text/plain": [
              "<Figure size 432x288 with 1 Axes>"
            ],
            "image/png": "[encoded data removed]"
          },
          "metadata": {
            "needs_background": "light"
          }
        }
      ]
    },
    {
      "cell_type": "code",
      "metadata": {
        "id": "1Cc1SeYE1i2x",
        "outputId": "bb587fff-788a-465f-9033-7686f24958a7",
        "colab": {
          "base_uri": "https://localhost:8080/"
        }
      },
      "source": [
        "math_grades"
      ],
      "execution_count": 52,
      "outputs": [
        {
          "output_type": "execute_result",
          "data": {
            "text/plain": [
              "[8, 7, 7, 8, 9, 3, 2, 8]"
            ]
          },
          "metadata": {},
          "execution_count": 52
        }
      ]
    }
  ]
}